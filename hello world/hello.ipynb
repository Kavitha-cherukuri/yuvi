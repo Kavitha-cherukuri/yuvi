{
 "cells": [
  {
   "cell_type": "code",
   "execution_count": null,
   "id": "ef6b4efa",
   "metadata": {},
   "outputs": [],
   "source": [
    "print(\"hello world\")\n",
    "#creating a function\n",
    "def greet(name):\n",
    "    \"\"\"\n",
    "    This function greet\n",
    "    the person passed in as\n",
    "    a parameter\n",
    "    \"\"\"\n",
    "    print(\"Hello, \" + name +\". Good morning!\")"
   ]
  }
 ],
 "metadata": {
  "kernelspec": {
   "display_name": "Python 3 (ipykernel)",
   "language": "python",
   "name": "python3"
  },
  "language_info": {
   "codemirror_mode": {
    "name": "ipython",
    "version": 3
   },
   "file_extension": ".py",
   "mimetype": "text/x-python",
   "name": "python",
   "nbconvert_exporter": "python",
   "pygments_lexer": "ipython3",
   "version": "3.9.7"
  }
 },
 "nbformat": 4,
 "nbformat_minor": 5
}
